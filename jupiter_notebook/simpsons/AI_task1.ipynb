{
 "cells": [
  {
   "cell_type": "code",
   "execution_count": 1,
   "id": "c32ad214-8b9e-4896-98b0-8ed7b6471e36",
   "metadata": {},
   "outputs": [],
   "source": [
    "import os\n",
    "os.environ[\"CUDA_VISIBLE_DEVICES\"]=\"0\"\n",
    "# os.environ['CUDA_LAUNCH_BLOCKING'] = \"0\""
   ]
  },
  {
   "cell_type": "code",
   "execution_count": 2,
   "id": "639835d6-6356-47b9-afa1-a4dfab8d2193",
   "metadata": {},
   "outputs": [
    {
     "name": "stdout",
     "output_type": "stream",
     "text": [
      "Wed Mar 13 12:36:15 2024       \n",
      "+---------------------------------------------------------------------------------------+\n",
      "| NVIDIA-SMI 535.154.05             Driver Version: 535.154.05   CUDA Version: 12.2     |\n",
      "|-----------------------------------------+----------------------+----------------------+\n",
      "| GPU  Name                 Persistence-M | Bus-Id        Disp.A | Volatile Uncorr. ECC |\n",
      "| Fan  Temp   Perf          Pwr:Usage/Cap |         Memory-Usage | GPU-Util  Compute M. |\n",
      "|                                         |                      |               MIG M. |\n",
      "|=========================================+======================+======================|\n",
      "|   0  Tesla V100-SXM2-32GB           Off | 00000000:89:00.0 Off |                    0 |\n",
      "| N/A   28C    P0              55W / 300W |      0MiB / 32768MiB |      0%      Default |\n",
      "|                                         |                      |                  N/A |\n",
      "+-----------------------------------------+----------------------+----------------------+\n",
      "|   1  Tesla V100-SXM2-32GB           Off | 00000000:8A:00.0 Off |                    0 |\n",
      "| N/A   30C    P0              54W / 300W |      0MiB / 32768MiB |      0%      Default |\n",
      "|                                         |                      |                  N/A |\n",
      "+-----------------------------------------+----------------------+----------------------+\n",
      "|   2  Tesla V100-SXM2-32GB           Off | 00000000:B2:00.0 Off |                    0 |\n",
      "| N/A   26C    P0              51W / 300W |      0MiB / 32768MiB |      0%      Default |\n",
      "|                                         |                      |                  N/A |\n",
      "+-----------------------------------------+----------------------+----------------------+\n",
      "|   3  Tesla V100-SXM2-32GB           Off | 00000000:B3:00.0 Off |                    0 |\n",
      "| N/A   28C    P0              54W / 300W |      0MiB / 32768MiB |      2%      Default |\n",
      "|                                         |                      |                  N/A |\n",
      "+-----------------------------------------+----------------------+----------------------+\n",
      "                                                                                         \n",
      "+---------------------------------------------------------------------------------------+\n",
      "| Processes:                                                                            |\n",
      "|  GPU   GI   CI        PID   Type   Process name                            GPU Memory |\n",
      "|        ID   ID                                                             Usage      |\n",
      "|=======================================================================================|\n",
      "|  No running processes found                                                           |\n",
      "+---------------------------------------------------------------------------------------+\n"
     ]
    }
   ],
   "source": [
    "!nvidia-smi"
   ]
  },
  {
   "cell_type": "code",
   "execution_count": 3,
   "id": "abaea500-3940-437c-9290-3a096cb5e859",
   "metadata": {},
   "outputs": [],
   "source": [
    "import os\n",
    "import torch\n",
    "import torch.nn as nn\n",
    "import torch.optim as optim\n",
    "import torch.nn.functional as f\n",
    "import torchvision\n",
    "import torchvision.transforms as transforms\n",
    "import matplotlib.pyplot as plt\n",
    "import numpy as np\n",
    "import matplotlib\n",
    "import zipfile\n",
    "import shutil\n",
    "import time\n",
    "import matplotlib.pyplot as plt\n",
    "from torch.utils.data import random_split\n",
    "from tqdm import tqdm_gui\n",
    "from PIL import Image\n",
    "from sklearn.model_selection import train_test_split\n",
    "from torch.utils.data import DataLoader\n",
    "from torchvision.datasets import ImageFolder\n",
    "from torchvision.transforms import RandomVerticalFlip\n",
    "\n",
    "%matplotlib inline"
   ]
  },
  {
   "cell_type": "code",
   "execution_count": 4,
   "id": "29d0bb98-76c0-4dfe-94fc-908e6f3a83a0",
   "metadata": {},
   "outputs": [],
   "source": [
    "device = torch.device(\"cuda\")"
   ]
  },
  {
   "cell_type": "code",
   "execution_count": 5,
   "id": "5c5cff40-4653-4e8d-aa40-c426ba3e1d07",
   "metadata": {
    "scrolled": true
   },
   "outputs": [
    {
     "name": "stdout",
     "output_type": "stream",
     "text": [
      "Классы: ['abraham_grampa_simpson', 'agnes_skinner', 'apu_nahasapeemapetilon', 'barney_gumble', 'bart_simpson', 'carl_carlson', 'charles_montgomery_burns', 'chief_wiggum', 'cletus_spuckler', 'comic_book_guy', 'disco_stu', 'edna_krabappel', 'fat_tony', 'gil', 'groundskeeper_willie', 'homer_simpson', 'kent_brockman', 'krusty_the_clown', 'lenny_leonard', 'lionel_hutz', 'lisa_simpson', 'maggie_simpson', 'marge_simpson', 'martin_prince', 'mayor_quimby', 'milhouse_van_houten', 'miss_hoover', 'moe_szyslak', 'ned_flanders', 'nelson_muntz', 'otto_mann', 'patty_bouvier', 'principal_skinner', 'professor_john_frink', 'rainier_wolfcastle', 'ralph_wiggum', 'selma_bouvier', 'sideshow_bob', 'sideshow_mel', 'snake_jailbird', 'troy_mcclure', 'waylon_smithers']\n",
      "42\n"
     ]
    }
   ],
   "source": [
    "directory = 'simpsons_dataset/'\n",
    "classes = os.listdir(directory)\n",
    "\n",
    "transform = transforms.Compose([\n",
    "    transforms.Resize((128, 128)),\n",
    "    transforms.ToTensor(),\n",
    "    transforms.Normalize(mean=[0.5, 0.5, 0.5], std=[0.5, 0.5, 0.5])  #преобразует пиксели из диапазона [0,1] в диапазон [-1,1]\n",
    "])\n",
    "\n",
    "data_dir = 'simpsons_dataset/'\n",
    "\n",
    "dataset = ImageFolder(root=data_dir, transform=transform)\n",
    "\n",
    "train_size = int(0.8 * len(dataset))\n",
    "val_size = len(dataset) - train_size\n",
    "train_dataset, val_dataset = random_split(dataset, [train_size, val_size])\n",
    "\n",
    "print(\"Классы:\", dataset.classes)\n",
    "\n",
    "print(len(dataset.classes))"
   ]
  },
  {
   "cell_type": "code",
   "execution_count": 6,
   "id": "3255fda8-4fe0-4721-8d4a-454e152badf8",
   "metadata": {},
   "outputs": [],
   "source": [
    "directory = 'kaggle_simpson_testset/kaggle_simpson_testset/'\n",
    "\n",
    "test_classes = []\n",
    "test_images = []\n",
    "\n",
    "def del_digit(img_name):\n",
    "  for char in img_name:\n",
    "    if char.isdigit():\n",
    "      img_name = img_name.replace(char, '')\n",
    "\n",
    "  clas = img_name[:-5]\n",
    "  test_classes.append(dataset.class_to_idx[clas])\n",
    "\n",
    "test_imgs = os.listdir(directory)\n",
    "for img in test_imgs:\n",
    "  image_path = directory + img\n",
    "  image = Image.open(image_path)\n",
    "  test_images.append(transform(image).unsqueeze(0))\n",
    "  del_digit(img)"
   ]
  },
  {
   "cell_type": "code",
   "execution_count": 7,
   "id": "63b1152b-1677-4c82-a511-580a43e82717",
   "metadata": {},
   "outputs": [],
   "source": [
    "class My_CNN(nn.Module):\n",
    "    def __init__(self, num_classes):\n",
    "        super(My_CNN, self).__init__()\n",
    "        self.conv1 = nn.Conv2d(in_channels=3, out_channels=16, kernel_size=3, stride=1, padding=1)\n",
    "        self.conv2 = nn.Conv2d(in_channels=16, out_channels=32, kernel_size=3, stride=1, padding=1)\n",
    "        self.conv3 = nn.Conv2d(in_channels=32, out_channels=64, kernel_size=3, stride=1, padding=1)\n",
    "        self.pool = nn.MaxPool2d(kernel_size=2, stride=2, padding=0)\n",
    "        self.fc1 = nn.Linear(64 * 16 * 16, 256)\n",
    "        #self.fc1 = nn.Linear(64 * 32 * 32, 512)\n",
    "        self.fc2 = nn.Linear(256, num_classes)\n",
    "        self.relu = nn.ReLU()\n",
    "        #self.dropout = nn.Dropout(0.5)\n",
    "\n",
    "    def forward(self, x):\n",
    "        x = self.relu(self.conv1(x))\n",
    "        x = self.pool(x)\n",
    "        x = self.relu(self.conv2(x))\n",
    "        x = self.pool(x)\n",
    "        x = self.relu(self.conv3(x))\n",
    "        x = self.pool(x)\n",
    "        x = x.view(-1, 64 * 16 * 16)\n",
    "        #x = x.view(-1, 64 * 32 * 32)\n",
    "        x = self.relu(self.fc1(x))\n",
    "        #x = self.dropout(x)\n",
    "        x = self.fc2(x)\n",
    "        return x\n",
    "        \n"
   ]
  },
  {
   "cell_type": "code",
   "execution_count": 8,
   "id": "57b31518-7ea1-426e-98d9-68c53d9e8595",
   "metadata": {},
   "outputs": [],
   "source": [
    "batch_size = 1024\n",
    "learning_rate = 0.001\n",
    "num_epochs = 15\n",
    "\n",
    "train_losses, val_losses = [], []\n",
    "train_accuracy, val_accuracy = [], []\n",
    "\n",
    "model = My_CNN(num_classes = 42).cuda()\n",
    "\n",
    "criterion = nn.CrossEntropyLoss()\n",
    "optimizer = optim.Adam(model.parameters(), lr = learning_rate)\n",
    "\n",
    "train_dataloader = DataLoader(train_dataset, batch_size=batch_size, shuffle = True)\n",
    "val_dataloader = DataLoader(val_dataset, batch_size = batch_size, shuffle = False)\n",
    "\n",
    "def learning():\n",
    "  for epoch in range(num_epochs):\n",
    "    start_time = time.time()\n",
    "    model.train()\n",
    "    running_loss = 0.0\n",
    "    for images, labels in train_dataloader:\n",
    "      images, labels = images.cuda(), labels.cuda()\n",
    "      optimizer.zero_grad()\n",
    "      outputs = model(images)\n",
    "      loss = criterion(outputs, labels)\n",
    "      loss.backward()\n",
    "      optimizer.step()\n",
    "      running_loss += loss.item()\n",
    "\n",
    "    end_time = time.time()\n",
    "    epoch_time = end_time - start_time\n",
    "\n",
    "    train_loss = running_loss/len(train_dataloader)\n",
    "    train_losses.append(loss)\n",
    "\n",
    "    print(f\"Epoch {epoch+1}/{num_epochs}\")\n",
    "    print(f\"Train Loss: {loss}, time = {epoch_time}\")\n",
    "\n",
    "    model.eval()\n",
    "    val_running_loss = 0.0\n",
    "    correct = 0\n",
    "    total = 0\n",
    "    with torch.no_grad():\n",
    "        for images, labels in val_dataloader:\n",
    "            images, labels = images.cuda(), labels.cuda()\n",
    "            outputs = model(images)\n",
    "            val_loss = criterion(outputs, labels)\n",
    "            val_running_loss += val_loss.item()\n",
    "            _, predicted = torch.max(outputs, 1)\n",
    "            total += labels.size(0)\n",
    "            correct += (predicted == labels).sum().item()\n",
    "\n",
    "    val_loss = val_running_loss / len(val_dataloader)\n",
    "    val_losses.append(val_loss)\n",
    "    val_accuracy = correct / total\n",
    "    print(f\"Validation Loss: {val_loss}, Validation Accuracy: {val_accuracy}\")"
   ]
  },
  {
   "cell_type": "code",
   "execution_count": 9,
   "id": "e6d7097c-07ab-4da5-a464-e92bc6503cc9",
   "metadata": {},
   "outputs": [
    {
     "name": "stdout",
     "output_type": "stream",
     "text": [
      "Epoch 1/15\n",
      "Train Loss: 2.880011558532715, time = 48.74940729141235\n",
      "Validation Loss: 2.767892932891846, Validation Accuracy: 0.23572963935992358\n",
      "Epoch 2/15\n",
      "Train Loss: 2.3956925868988037, time = 46.91324853897095\n",
      "Validation Loss: 2.2413769245147703, Validation Accuracy: 0.37735849056603776\n",
      "Epoch 3/15\n",
      "Train Loss: 1.870298981666565, time = 46.42083787918091\n",
      "Validation Loss: 1.9127568006515503, Validation Accuracy: 0.49008836876044903\n",
      "Epoch 4/15\n",
      "Train Loss: 1.7934669256210327, time = 45.922199964523315\n",
      "Validation Loss: 1.6954957485198974, Validation Accuracy: 0.5364222593742537\n",
      "Epoch 5/15\n",
      "Train Loss: 1.6477813720703125, time = 45.98270535469055\n",
      "Validation Loss: 1.5222333908081054, Validation Accuracy: 0.579651301647958\n",
      "Epoch 6/15\n",
      "Train Loss: 1.5136529207229614, time = 45.838539123535156\n",
      "Validation Loss: 1.438590693473816, Validation Accuracy: 0.5975638882254598\n",
      "Epoch 7/15\n",
      "Train Loss: 1.3269990682601929, time = 45.850271224975586\n",
      "Validation Loss: 1.3221035242080688, Validation Accuracy: 0.6314783854788631\n",
      "Epoch 8/15\n",
      "Train Loss: 1.2039413452148438, time = 45.84667205810547\n",
      "Validation Loss: 1.2301477432250976, Validation Accuracy: 0.6567948411750657\n",
      "Epoch 9/15\n",
      "Train Loss: 1.156430959701538, time = 45.75714111328125\n",
      "Validation Loss: 1.1656604409217834, Validation Accuracy: 0.6711249104370671\n",
      "Epoch 10/15\n",
      "Train Loss: 1.0530530214309692, time = 46.5320508480072\n",
      "Validation Loss: 1.1389660358428955, Validation Accuracy: 0.6837831382851683\n",
      "Epoch 11/15\n",
      "Train Loss: 0.9838832020759583, time = 45.871119260787964\n",
      "Validation Loss: 1.0488129615783692, Validation Accuracy: 0.7098160974444709\n",
      "Epoch 12/15\n",
      "Train Loss: 0.7541114687919617, time = 50.17731809616089\n",
      "Validation Loss: 1.0457414984703064, Validation Accuracy: 0.7160257941246716\n",
      "Epoch 13/15\n",
      "Train Loss: 0.7633849382400513, time = 46.389432430267334\n",
      "Validation Loss: 1.020085072517395, Validation Accuracy: 0.7251015046572725\n",
      "Epoch 14/15\n",
      "Train Loss: 0.6072248816490173, time = 46.33587718009949\n",
      "Validation Loss: 1.0279208302497864, Validation Accuracy: 0.7234296632433723\n",
      "Epoch 15/15\n",
      "Train Loss: 0.6680520176887512, time = 46.460463523864746\n",
      "Validation Loss: 0.997783613204956, Validation Accuracy: 0.7379985669930738\n"
     ]
    }
   ],
   "source": [
    "learning()"
   ]
  },
  {
   "cell_type": "code",
   "execution_count": 20,
   "id": "f0ee88fa-7385-49cf-916e-5e49b8b254f6",
   "metadata": {},
   "outputs": [],
   "source": [
    "path_to_weights = 'weights/weigths_15ep_512n_128x128+dropout.pth'\n",
    "torch.save(model.state_dict(), path_to_weights)"
   ]
  },
  {
   "cell_type": "code",
   "execution_count": 21,
   "id": "f83e621b-bb16-48a5-b056-fcba1f34046a",
   "metadata": {},
   "outputs": [
    {
     "data": {
      "text/plain": [
       "<All keys matched successfully>"
      ]
     },
     "execution_count": 21,
     "metadata": {},
     "output_type": "execute_result"
    }
   ],
   "source": [
    "model = My_CNN(num_classes = 42).cuda()\n",
    "model.load_state_dict(torch.load(path_to_weights, map_location=torch.device('cuda')))"
   ]
  },
  {
   "cell_type": "code",
   "execution_count": 22,
   "id": "d3131fc3-412f-4e61-a8fd-30d09b2fccb4",
   "metadata": {},
   "outputs": [
    {
     "name": "stdout",
     "output_type": "stream",
     "text": [
      "0.8888888888888888\n"
     ]
    }
   ],
   "source": [
    "model.eval()\n",
    "\n",
    "true = 0\n",
    "total = len(test_images)\n",
    "\n",
    "for image, label in zip(test_images, test_classes):\n",
    "    outputs = model(image.cuda())\n",
    "    if torch.argmax(outputs) == label:\n",
    "      true += 1\n",
    "\n",
    "test_accuracy = true/total\n",
    "\n",
    "print(test_accuracy)"
   ]
  },
  {
   "cell_type": "code",
   "execution_count": 13,
   "id": "b8285b02-6944-4d2c-bde4-3ac086383fd1",
   "metadata": {},
   "outputs": [],
   "source": [
    "def predict_model(image):\n",
    "    image = Image.open(image)\n",
    "    \n",
    "    plt.imshow(image.resize((128,128)))\n",
    "    plt.show()\n",
    "    \n",
    "    input_image = transform(image).unsqueeze(0)\n",
    "    \n",
    "    with torch.no_grad():\n",
    "        model.eval()\n",
    "        output = model(input_image.cuda())\n",
    "        output = np.argmax(output.detach().cpu().numpy())\n",
    "        print(dataset.classes[output])\n"
   ]
  },
  {
   "cell_type": "code",
   "execution_count": 23,
   "id": "76e8db6a-232a-41df-b6a2-6715e1abd904",
   "metadata": {},
   "outputs": [
    {
     "ename": "AttributeError",
     "evalue": "'numpy.ndarray' object has no attribute 'detach'",
     "output_type": "error",
     "traceback": [
      "\u001b[0;31m---------------------------------------------------------------------------\u001b[0m",
      "\u001b[0;31mAttributeError\u001b[0m                            Traceback (most recent call last)",
      "Cell \u001b[0;32mIn[23], line 1\u001b[0m\n\u001b[0;32m----> 1\u001b[0m train_losses \u001b[38;5;241m=\u001b[39m [tensor\u001b[38;5;241m.\u001b[39mdetach()\u001b[38;5;241m.\u001b[39mcpu()\u001b[38;5;241m.\u001b[39mnumpy() \u001b[38;5;28;01mfor\u001b[39;00m tensor \u001b[38;5;129;01min\u001b[39;00m train_losses]\n",
      "Cell \u001b[0;32mIn[23], line 1\u001b[0m, in \u001b[0;36m<listcomp>\u001b[0;34m(.0)\u001b[0m\n\u001b[0;32m----> 1\u001b[0m train_losses \u001b[38;5;241m=\u001b[39m [\u001b[43mtensor\u001b[49m\u001b[38;5;241;43m.\u001b[39;49m\u001b[43mdetach\u001b[49m()\u001b[38;5;241m.\u001b[39mcpu()\u001b[38;5;241m.\u001b[39mnumpy() \u001b[38;5;28;01mfor\u001b[39;00m tensor \u001b[38;5;129;01min\u001b[39;00m train_losses]\n",
      "\u001b[0;31mAttributeError\u001b[0m: 'numpy.ndarray' object has no attribute 'detach'"
     ]
    }
   ],
   "source": [
    "train_losses = [tensor.detach().cpu().numpy() for tensor in train_losses]"
   ]
  },
  {
   "cell_type": "code",
   "execution_count": 24,
   "id": "6721e501-fda4-48d7-9d21-b97f5997fe73",
   "metadata": {},
   "outputs": [
    {
     "data": {
      "image/png": "[encoded data removed]",
      "text/plain": [
       "<Figure size 640x480 with 1 Axes>"
      ]
     },
     "metadata": {},
     "output_type": "display_data"
    }
   ],
   "source": [
    "path_to_train_graphic = 'graphics/train_losses/train_losses_50e_512n_128x128+dropout.png'\n",
    "\n",
    "epochs = [epoch for epoch in range(num_epochs)]\n",
    "plt.plot(epochs, train_losses)\n",
    "plt.xlabel('Epochs')\n",
    "plt.ylabel('Train_Losses')\n",
    "plt.savefig(path_to_train_graphic)\n",
    "plt.show()"
   ]
  },
  {
   "cell_type": "code",
   "execution_count": 25,
   "id": "9c687a2e-f792-435f-b196-01db17191e51",
   "metadata": {},
   "outputs": [
    {
     "data": {
      "image/png": "[encoded data removed]",
      "text/plain": [
       "<Figure size 640x480 with 1 Axes>"
      ]
     },
     "metadata": {},
     "output_type": "display_data"
    }
   ],
   "source": [
    "path_to_val_graphic = 'graphics/val_losses/val_losses_50e_512n_128x128+dropout.png'\n",
    "\n",
    "plt.plot(epochs, val_losses)\n",
    "plt.xlabel('Epochs')\n",
    "plt.ylabel('Val_Losses')\n",
    "plt.savefig(path_to_val_graphic)\n",
    "plt.show()"
   ]
  },
  {
   "cell_type": "code",
   "execution_count": 26,
   "id": "688fa087-a9b5-473b-8ff9-683cfb07de32",
   "metadata": {},
   "outputs": [
    {
     "name": "stdout",
     "output_type": "stream",
     "text": [
      "/home/i.zolotykh/Artificial-intelligence/jupiter_notebook/simpsons\n"
     ]
    }
   ],
   "source": [
    "!pwd"
   ]
  },
  {
   "cell_type": "code",
   "execution_count": null,
   "id": "32d5a17c-f0c5-4021-8800-0dfd9b843e6a",
   "metadata": {},
   "outputs": [],
   "source": []
  }
 ],
 "metadata": {
  "kernelspec": {
   "display_name": "Python 3 (ipykernel)",
   "language": "python",
   "name": "python3"
  },
  "language_info": {
   "codemirror_mode": {
    "name": "ipython",
    "version": 3
   },
   "file_extension": ".py",
   "mimetype": "text/x-python",
   "name": "python",
   "nbconvert_exporter": "python",
   "pygments_lexer": "ipython3",
   "version": "3.10.12"
  }
 },
 "nbformat": 4,
 "nbformat_minor": 5
}
