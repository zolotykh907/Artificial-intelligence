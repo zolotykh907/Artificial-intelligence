{
 "cells": [
  {
   "cell_type": "code",
   "execution_count": 1,
   "id": "00261024",
   "metadata": {},
   "outputs": [],
   "source": [
    "import torch\n",
    "import matplotlib.pyplot as plt\n",
    "import torchvision.transforms as transforms\n",
    "import torch.nn as nn\n",
    "import numpy as np\n",
    "import torch.nn.functional as F\n",
    "from torchvision.models import resnet50\n",
    "from PIL import Image\n"
   ]
  },
  {
   "cell_type": "code",
   "execution_count": null,
   "id": "51bd5c35",
   "metadata": {},
   "outputs": [
    {
     "name": "stderr",
     "output_type": "stream",
     "text": [
      "/home/i.zolotykh/.local/lib/python3.10/site-packages/torchvision/models/_utils.py:208: UserWarning: The parameter 'pretrained' is deprecated since 0.13 and may be removed in the future, please use 'weights' instead.\n",
      "  warnings.warn(\n",
      "/home/i.zolotykh/.local/lib/python3.10/site-packages/torchvision/models/_utils.py:223: UserWarning: Arguments other than a weight enum or `None` for 'weights' are deprecated since 0.13 and may be removed in the future. The current behavior is equivalent to passing `weights=ResNet50_Weights.IMAGENET1K_V1`. You can also use `weights=ResNet50_Weights.DEFAULT` to get the most up-to-date weights.\n",
      "  warnings.warn(msg)\n",
      "Downloading: \"https://download.pytorch.org/models/resnet50-0676ba61.pth\" to /home/i.zolotykh/.cache/torch/hub/checkpoints/resnet50-0676ba61.pth\n",
      "  1%|▉                                                                             | 1.17M/97.8M [00:14<26:14, 64.4kB/s]"
     ]
    }
   ],
   "source": [
    "model = resnet50(pretrained=True)\n",
    "model = torch.nn.Sequential(*list(model.children())[:-2])\n",
    "model.eval()\n",
    "\n",
    "transform = transforms.Compose([\n",
    "transforms.Resize((224, 224)),\n",
    "transforms.ToTensor(),\n",
    "transforms.Normalize(mean=[0.485, 0.456, 0.406], std=[0.229, 0.224, 0.225]),\n",
    "])\n",
    "\n",
    "dino_image = Image.open('/content/dino4.png').convert('RGB')\n",
    "dino_tensor = transform(dino_image).unsqueeze(0)\n",
    "\n",
    "with torch.no_grad():\n",
    "  dinosaur_features = model(dino_tensor)\n"
   ]
  },
  {
   "cell_type": "code",
   "execution_count": null,
   "id": "8247b959",
   "metadata": {},
   "outputs": [],
   "source": [
    "\n",
    "model = resnet50(pretrained=True)\n",
    "model = torch.nn.Sequential(*list(model.children())[:-2])\n",
    "\n",
    "all_image = Image.open('/content/drive/MyDrive/Colab Notebooks/dinosaurs/abc.jpg').convert('RGB')\n",
    "all_tensor = transform(all_image).unsqueeze(0)\n",
    "\n",
    "with torch.no_grad():\n",
    "  all_features = model(all_tensor)"
   ]
  },
  {
   "cell_type": "code",
   "execution_count": null,
   "id": "4c5117b4",
   "metadata": {},
   "outputs": [],
   "source": [
    "print(dinosaur_features.shape)"
   ]
  },
  {
   "cell_type": "code",
   "execution_count": null,
   "id": "788ae819",
   "metadata": {},
   "outputs": [],
   "source": [
    "all_features = F.interpolate(all_features, size=(224, 224), mode='bilinear', align_corners=False)"
   ]
  },
  {
   "cell_type": "code",
   "execution_count": null,
   "id": "ce39cd37",
   "metadata": {},
   "outputs": [],
   "source": [
    "heatmap = F.conv2d(all_features, dinosaur_features)\n",
    "\n",
    "heatmap = heatmap.squeeze().numpy()\n",
    "heatmap = np.maximum(heatmap, 0)\n",
    "\n",
    "plt.imshow(heatmap, cmap='hot')\n",
    "plt.axis('off')\n",
    "plt.colorbar(label='Feature Strength')\n",
    "plt.show()"
   ]
  }
 ],
 "metadata": {
  "kernelspec": {
   "display_name": "Python 3 (ipykernel)",
   "language": "python",
   "name": "python3"
  },
  "language_info": {
   "codemirror_mode": {
    "name": "ipython",
    "version": 3
   },
   "file_extension": ".py",
   "mimetype": "text/x-python",
   "name": "python",
   "nbconvert_exporter": "python",
   "pygments_lexer": "ipython3",
   "version": "3.10.12"
  },
  "varInspector": {
   "cols": {
    "lenName": 16,
    "lenType": 16,
    "lenVar": 40
   },
   "kernels_config": {
    "python": {
     "delete_cmd_postfix": "",
     "delete_cmd_prefix": "del ",
     "library": "var_list.py",
     "varRefreshCmd": "print(var_dic_list())"
    },
    "r": {
     "delete_cmd_postfix": ") ",
     "delete_cmd_prefix": "rm(",
     "library": "var_list.r",
     "varRefreshCmd": "cat(var_dic_list()) "
    }
   },
   "types_to_exclude": [
    "module",
    "function",
    "builtin_function_or_method",
    "instance",
    "_Feature"
   ],
   "window_display": false
  }
 },
 "nbformat": 4,
 "nbformat_minor": 5
}
